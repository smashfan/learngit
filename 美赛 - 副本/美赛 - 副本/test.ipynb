{
 "metadata": {
  "language_info": {
   "codemirror_mode": {
    "name": "ipython",
    "version": 3
   },
   "file_extension": ".py",
   "mimetype": "text/x-python",
   "name": "python",
   "nbconvert_exporter": "python",
   "pygments_lexer": "ipython3",
   "version": "3.8.5-final"
  },
  "orig_nbformat": 2,
  "kernelspec": {
   "name": "python3",
   "display_name": "Python 3.8.5 64-bit (conda)",
   "metadata": {
    "interpreter": {
     "hash": "ae9eec3e504be26fc112c7eaaaf609ab8bc50840918bbcb59a7dd1e3d736ec47"
    }
   }
  }
 },
 "nbformat": 4,
 "nbformat_minor": 2,
 "cells": [
  {
   "cell_type": "code",
   "execution_count": 5,
   "metadata": {},
   "outputs": [],
   "source": [
    "import pandas as pd"
   ]
  },
  {
   "cell_type": "code",
   "execution_count": 6,
   "metadata": {},
   "outputs": [],
   "source": [
    "train=pd.read_csv('2021_ICM_Problem_D_Data/full_music_data.csv', sep=',')"
   ]
  },
  {
   "cell_type": "code",
   "execution_count": 7,
   "metadata": {},
   "outputs": [
    {
     "output_type": "execute_result",
     "data": {
      "text/plain": [
       "                artist_names artists_id  danceability  energy  valence  \\\n",
       "0      [\"Fat Freddy's Drop\"]   [178301]         0.600   0.365    0.131   \n",
       "1      [\"Fat Freddy's Drop\"]   [178301]         0.874   0.326    0.179   \n",
       "2      [\"Fat Freddy's Drop\"]   [178301]         0.670   0.531    0.336   \n",
       "3       [\"Alexander O'Neal\"]   [625201]         0.761   0.702    0.850   \n",
       "4       [\"Alexander O'Neal\"]   [625201]         0.661   0.828    0.902   \n",
       "...                      ...        ...           ...     ...      ...   \n",
       "98335             ['ZZ Top']   [690254]         0.276   0.892    0.715   \n",
       "98336             ['ZZ Top']   [690254]         0.700   0.592    0.906   \n",
       "98337             ['ZZ Top']   [690254]         0.709   0.709    0.863   \n",
       "98338             ['ZZ Top']   [690254]         0.552   0.651    0.533   \n",
       "98339             ['ZZ Top']   [690254]         0.546   0.864    0.863   \n",
       "\n",
       "         tempo  loudness  mode  key  acousticness  instrumentalness  liveness  \\\n",
       "0      130.046   -13.083     0    9       0.06720          0.585000    0.0921   \n",
       "1      119.620   -13.302     0   11       0.01360          0.148000    0.0993   \n",
       "2      139.385    -8.267     0    9       0.01560          0.345000    0.3060   \n",
       "3      104.773    -8.523     1    7       0.10800          0.000031    0.0935   \n",
       "4      115.078   -12.673     0   11       0.27600          0.000001    0.2870   \n",
       "...        ...       ...   ...  ...           ...               ...       ...   \n",
       "98335   80.475    -7.035     1   11       0.40900          0.000000    0.7140   \n",
       "98336  109.847   -10.434     1   11       0.10800          0.018400    0.1180   \n",
       "98337  111.544   -12.023     1    2       0.11800          0.000011    0.1250   \n",
       "98338  161.548   -10.624     0    4       0.00494          0.034900    0.1320   \n",
       "98339  145.652    -7.632     1    7       0.09080          0.008140    0.2770   \n",
       "\n",
       "       speechiness  explicit  duration_ms  popularity  year release_date  \\\n",
       "0           0.0498         0       437200          54  2005         2005   \n",
       "1           0.1310         0       581008          53  2005         2005   \n",
       "2           0.0377         0       431293          55  2009     8/7/2009   \n",
       "3           0.0389         0       304427          34  1991     1/1/1991   \n",
       "4           0.0390         0       264933          37  1987    7/29/1987   \n",
       "...            ...       ...          ...         ...   ...          ...   \n",
       "98335       0.0893         0       115973          33  1975    4/18/1975   \n",
       "98336       0.0681         0       263627          32  1976   11/29/1976   \n",
       "98337       0.0370         0       158400          31  1987         1987   \n",
       "98338       0.2290         0       232533          43  1992    4/13/1992   \n",
       "98339       0.0393         0       137240          43  2005    7/19/2005   \n",
       "\n",
       "                      song_title (censored)  \n",
       "0                                     Ernie  \n",
       "1                             Wandering Eye  \n",
       "2                                  The Raft  \n",
       "3                              All True Man  \n",
       "4      (What Can I Say) To Make You Love Me  \n",
       "...                                     ...  \n",
       "98335        Jailhouse Rock - **** Remaster  \n",
       "98336                        It's Only Love  \n",
       "98337                              Balinese  \n",
       "98338             La Grange - **** Remaster  \n",
       "98339                                  ****  \n",
       "\n",
       "[98340 rows x 19 columns]"
      ],
      "text/html": "<div>\n<style scoped>\n    .dataframe tbody tr th:only-of-type {\n        vertical-align: middle;\n    }\n\n    .dataframe tbody tr th {\n        vertical-align: top;\n    }\n\n    .dataframe thead th {\n        text-align: right;\n    }\n</style>\n<table border=\"1\" class=\"dataframe\">\n  <thead>\n    <tr style=\"text-align: right;\">\n      <th></th>\n      <th>artist_names</th>\n      <th>artists_id</th>\n      <th>danceability</th>\n      <th>energy</th>\n      <th>valence</th>\n      <th>tempo</th>\n      <th>loudness</th>\n      <th>mode</th>\n      <th>key</th>\n      <th>acousticness</th>\n      <th>instrumentalness</th>\n      <th>liveness</th>\n      <th>speechiness</th>\n      <th>explicit</th>\n      <th>duration_ms</th>\n      <th>popularity</th>\n      <th>year</th>\n      <th>release_date</th>\n      <th>song_title (censored)</th>\n    </tr>\n  </thead>\n  <tbody>\n    <tr>\n      <th>0</th>\n      <td>[\"Fat Freddy's Drop\"]</td>\n      <td>[178301]</td>\n      <td>0.600</td>\n      <td>0.365</td>\n      <td>0.131</td>\n      <td>130.046</td>\n      <td>-13.083</td>\n      <td>0</td>\n      <td>9</td>\n      <td>0.06720</td>\n      <td>0.585000</td>\n      <td>0.0921</td>\n      <td>0.0498</td>\n      <td>0</td>\n      <td>437200</td>\n      <td>54</td>\n      <td>2005</td>\n      <td>2005</td>\n      <td>Ernie</td>\n    </tr>\n    <tr>\n      <th>1</th>\n      <td>[\"Fat Freddy's Drop\"]</td>\n      <td>[178301]</td>\n      <td>0.874</td>\n      <td>0.326</td>\n      <td>0.179</td>\n      <td>119.620</td>\n      <td>-13.302</td>\n      <td>0</td>\n      <td>11</td>\n      <td>0.01360</td>\n      <td>0.148000</td>\n      <td>0.0993</td>\n      <td>0.1310</td>\n      <td>0</td>\n      <td>581008</td>\n      <td>53</td>\n      <td>2005</td>\n      <td>2005</td>\n      <td>Wandering Eye</td>\n    </tr>\n    <tr>\n      <th>2</th>\n      <td>[\"Fat Freddy's Drop\"]</td>\n      <td>[178301]</td>\n      <td>0.670</td>\n      <td>0.531</td>\n      <td>0.336</td>\n      <td>139.385</td>\n      <td>-8.267</td>\n      <td>0</td>\n      <td>9</td>\n      <td>0.01560</td>\n      <td>0.345000</td>\n      <td>0.3060</td>\n      <td>0.0377</td>\n      <td>0</td>\n      <td>431293</td>\n      <td>55</td>\n      <td>2009</td>\n      <td>8/7/2009</td>\n      <td>The Raft</td>\n    </tr>\n    <tr>\n      <th>3</th>\n      <td>[\"Alexander O'Neal\"]</td>\n      <td>[625201]</td>\n      <td>0.761</td>\n      <td>0.702</td>\n      <td>0.850</td>\n      <td>104.773</td>\n      <td>-8.523</td>\n      <td>1</td>\n      <td>7</td>\n      <td>0.10800</td>\n      <td>0.000031</td>\n      <td>0.0935</td>\n      <td>0.0389</td>\n      <td>0</td>\n      <td>304427</td>\n      <td>34</td>\n      <td>1991</td>\n      <td>1/1/1991</td>\n      <td>All True Man</td>\n    </tr>\n    <tr>\n      <th>4</th>\n      <td>[\"Alexander O'Neal\"]</td>\n      <td>[625201]</td>\n      <td>0.661</td>\n      <td>0.828</td>\n      <td>0.902</td>\n      <td>115.078</td>\n      <td>-12.673</td>\n      <td>0</td>\n      <td>11</td>\n      <td>0.27600</td>\n      <td>0.000001</td>\n      <td>0.2870</td>\n      <td>0.0390</td>\n      <td>0</td>\n      <td>264933</td>\n      <td>37</td>\n      <td>1987</td>\n      <td>7/29/1987</td>\n      <td>(What Can I Say) To Make You Love Me</td>\n    </tr>\n    <tr>\n      <th>...</th>\n      <td>...</td>\n      <td>...</td>\n      <td>...</td>\n      <td>...</td>\n      <td>...</td>\n      <td>...</td>\n      <td>...</td>\n      <td>...</td>\n      <td>...</td>\n      <td>...</td>\n      <td>...</td>\n      <td>...</td>\n      <td>...</td>\n      <td>...</td>\n      <td>...</td>\n      <td>...</td>\n      <td>...</td>\n      <td>...</td>\n      <td>...</td>\n    </tr>\n    <tr>\n      <th>98335</th>\n      <td>['ZZ Top']</td>\n      <td>[690254]</td>\n      <td>0.276</td>\n      <td>0.892</td>\n      <td>0.715</td>\n      <td>80.475</td>\n      <td>-7.035</td>\n      <td>1</td>\n      <td>11</td>\n      <td>0.40900</td>\n      <td>0.000000</td>\n      <td>0.7140</td>\n      <td>0.0893</td>\n      <td>0</td>\n      <td>115973</td>\n      <td>33</td>\n      <td>1975</td>\n      <td>4/18/1975</td>\n      <td>Jailhouse Rock - **** Remaster</td>\n    </tr>\n    <tr>\n      <th>98336</th>\n      <td>['ZZ Top']</td>\n      <td>[690254]</td>\n      <td>0.700</td>\n      <td>0.592</td>\n      <td>0.906</td>\n      <td>109.847</td>\n      <td>-10.434</td>\n      <td>1</td>\n      <td>11</td>\n      <td>0.10800</td>\n      <td>0.018400</td>\n      <td>0.1180</td>\n      <td>0.0681</td>\n      <td>0</td>\n      <td>263627</td>\n      <td>32</td>\n      <td>1976</td>\n      <td>11/29/1976</td>\n      <td>It's Only Love</td>\n    </tr>\n    <tr>\n      <th>98337</th>\n      <td>['ZZ Top']</td>\n      <td>[690254]</td>\n      <td>0.709</td>\n      <td>0.709</td>\n      <td>0.863</td>\n      <td>111.544</td>\n      <td>-12.023</td>\n      <td>1</td>\n      <td>2</td>\n      <td>0.11800</td>\n      <td>0.000011</td>\n      <td>0.1250</td>\n      <td>0.0370</td>\n      <td>0</td>\n      <td>158400</td>\n      <td>31</td>\n      <td>1987</td>\n      <td>1987</td>\n      <td>Balinese</td>\n    </tr>\n    <tr>\n      <th>98338</th>\n      <td>['ZZ Top']</td>\n      <td>[690254]</td>\n      <td>0.552</td>\n      <td>0.651</td>\n      <td>0.533</td>\n      <td>161.548</td>\n      <td>-10.624</td>\n      <td>0</td>\n      <td>4</td>\n      <td>0.00494</td>\n      <td>0.034900</td>\n      <td>0.1320</td>\n      <td>0.2290</td>\n      <td>0</td>\n      <td>232533</td>\n      <td>43</td>\n      <td>1992</td>\n      <td>4/13/1992</td>\n      <td>La Grange - **** Remaster</td>\n    </tr>\n    <tr>\n      <th>98339</th>\n      <td>['ZZ Top']</td>\n      <td>[690254]</td>\n      <td>0.546</td>\n      <td>0.864</td>\n      <td>0.863</td>\n      <td>145.652</td>\n      <td>-7.632</td>\n      <td>1</td>\n      <td>7</td>\n      <td>0.09080</td>\n      <td>0.008140</td>\n      <td>0.2770</td>\n      <td>0.0393</td>\n      <td>0</td>\n      <td>137240</td>\n      <td>43</td>\n      <td>2005</td>\n      <td>7/19/2005</td>\n      <td>****</td>\n    </tr>\n  </tbody>\n</table>\n<p>98340 rows × 19 columns</p>\n</div>"
     },
     "metadata": {},
     "execution_count": 7
    }
   ],
   "source": [
    "train"
   ]
  },
  {
   "cell_type": "code",
   "execution_count": 8,
   "metadata": {},
   "outputs": [],
   "source": [
    "import numpy as np"
   ]
  },
  {
   "cell_type": "code",
   "execution_count": 9,
   "metadata": {},
   "outputs": [
    {
     "output_type": "execute_result",
     "data": {
      "text/plain": [
       "       danceability  energy  valence    tempo  loudness  mode  key  \\\n",
       "0             0.600   0.365    0.131  130.046   -13.083     0    9   \n",
       "1             0.874   0.326    0.179  119.620   -13.302     0   11   \n",
       "2             0.670   0.531    0.336  139.385    -8.267     0    9   \n",
       "3             0.761   0.702    0.850  104.773    -8.523     1    7   \n",
       "4             0.661   0.828    0.902  115.078   -12.673     0   11   \n",
       "...             ...     ...      ...      ...       ...   ...  ...   \n",
       "98335         0.276   0.892    0.715   80.475    -7.035     1   11   \n",
       "98336         0.700   0.592    0.906  109.847   -10.434     1   11   \n",
       "98337         0.709   0.709    0.863  111.544   -12.023     1    2   \n",
       "98338         0.552   0.651    0.533  161.548   -10.624     0    4   \n",
       "98339         0.546   0.864    0.863  145.652    -7.632     1    7   \n",
       "\n",
       "       acousticness  instrumentalness  liveness  speechiness  explicit  \\\n",
       "0           0.06720          0.585000    0.0921       0.0498         0   \n",
       "1           0.01360          0.148000    0.0993       0.1310         0   \n",
       "2           0.01560          0.345000    0.3060       0.0377         0   \n",
       "3           0.10800          0.000031    0.0935       0.0389         0   \n",
       "4           0.27600          0.000001    0.2870       0.0390         0   \n",
       "...             ...               ...       ...          ...       ...   \n",
       "98335       0.40900          0.000000    0.7140       0.0893         0   \n",
       "98336       0.10800          0.018400    0.1180       0.0681         0   \n",
       "98337       0.11800          0.000011    0.1250       0.0370         0   \n",
       "98338       0.00494          0.034900    0.1320       0.2290         0   \n",
       "98339       0.09080          0.008140    0.2770       0.0393         0   \n",
       "\n",
       "       duration_ms  popularity  year release_date  \n",
       "0           437200          54  2005         2005  \n",
       "1           581008          53  2005         2005  \n",
       "2           431293          55  2009     8/7/2009  \n",
       "3           304427          34  1991     1/1/1991  \n",
       "4           264933          37  1987    7/29/1987  \n",
       "...            ...         ...   ...          ...  \n",
       "98335       115973          33  1975    4/18/1975  \n",
       "98336       263627          32  1976   11/29/1976  \n",
       "98337       158400          31  1987         1987  \n",
       "98338       232533          43  1992    4/13/1992  \n",
       "98339       137240          43  2005    7/19/2005  \n",
       "\n",
       "[98340 rows x 16 columns]"
      ],
      "text/html": "<div>\n<style scoped>\n    .dataframe tbody tr th:only-of-type {\n        vertical-align: middle;\n    }\n\n    .dataframe tbody tr th {\n        vertical-align: top;\n    }\n\n    .dataframe thead th {\n        text-align: right;\n    }\n</style>\n<table border=\"1\" class=\"dataframe\">\n  <thead>\n    <tr style=\"text-align: right;\">\n      <th></th>\n      <th>danceability</th>\n      <th>energy</th>\n      <th>valence</th>\n      <th>tempo</th>\n      <th>loudness</th>\n      <th>mode</th>\n      <th>key</th>\n      <th>acousticness</th>\n      <th>instrumentalness</th>\n      <th>liveness</th>\n      <th>speechiness</th>\n      <th>explicit</th>\n      <th>duration_ms</th>\n      <th>popularity</th>\n      <th>year</th>\n      <th>release_date</th>\n    </tr>\n  </thead>\n  <tbody>\n    <tr>\n      <th>0</th>\n      <td>0.600</td>\n      <td>0.365</td>\n      <td>0.131</td>\n      <td>130.046</td>\n      <td>-13.083</td>\n      <td>0</td>\n      <td>9</td>\n      <td>0.06720</td>\n      <td>0.585000</td>\n      <td>0.0921</td>\n      <td>0.0498</td>\n      <td>0</td>\n      <td>437200</td>\n      <td>54</td>\n      <td>2005</td>\n      <td>2005</td>\n    </tr>\n    <tr>\n      <th>1</th>\n      <td>0.874</td>\n      <td>0.326</td>\n      <td>0.179</td>\n      <td>119.620</td>\n      <td>-13.302</td>\n      <td>0</td>\n      <td>11</td>\n      <td>0.01360</td>\n      <td>0.148000</td>\n      <td>0.0993</td>\n      <td>0.1310</td>\n      <td>0</td>\n      <td>581008</td>\n      <td>53</td>\n      <td>2005</td>\n      <td>2005</td>\n    </tr>\n    <tr>\n      <th>2</th>\n      <td>0.670</td>\n      <td>0.531</td>\n      <td>0.336</td>\n      <td>139.385</td>\n      <td>-8.267</td>\n      <td>0</td>\n      <td>9</td>\n      <td>0.01560</td>\n      <td>0.345000</td>\n      <td>0.3060</td>\n      <td>0.0377</td>\n      <td>0</td>\n      <td>431293</td>\n      <td>55</td>\n      <td>2009</td>\n      <td>8/7/2009</td>\n    </tr>\n    <tr>\n      <th>3</th>\n      <td>0.761</td>\n      <td>0.702</td>\n      <td>0.850</td>\n      <td>104.773</td>\n      <td>-8.523</td>\n      <td>1</td>\n      <td>7</td>\n      <td>0.10800</td>\n      <td>0.000031</td>\n      <td>0.0935</td>\n      <td>0.0389</td>\n      <td>0</td>\n      <td>304427</td>\n      <td>34</td>\n      <td>1991</td>\n      <td>1/1/1991</td>\n    </tr>\n    <tr>\n      <th>4</th>\n      <td>0.661</td>\n      <td>0.828</td>\n      <td>0.902</td>\n      <td>115.078</td>\n      <td>-12.673</td>\n      <td>0</td>\n      <td>11</td>\n      <td>0.27600</td>\n      <td>0.000001</td>\n      <td>0.2870</td>\n      <td>0.0390</td>\n      <td>0</td>\n      <td>264933</td>\n      <td>37</td>\n      <td>1987</td>\n      <td>7/29/1987</td>\n    </tr>\n    <tr>\n      <th>...</th>\n      <td>...</td>\n      <td>...</td>\n      <td>...</td>\n      <td>...</td>\n      <td>...</td>\n      <td>...</td>\n      <td>...</td>\n      <td>...</td>\n      <td>...</td>\n      <td>...</td>\n      <td>...</td>\n      <td>...</td>\n      <td>...</td>\n      <td>...</td>\n      <td>...</td>\n      <td>...</td>\n    </tr>\n    <tr>\n      <th>98335</th>\n      <td>0.276</td>\n      <td>0.892</td>\n      <td>0.715</td>\n      <td>80.475</td>\n      <td>-7.035</td>\n      <td>1</td>\n      <td>11</td>\n      <td>0.40900</td>\n      <td>0.000000</td>\n      <td>0.7140</td>\n      <td>0.0893</td>\n      <td>0</td>\n      <td>115973</td>\n      <td>33</td>\n      <td>1975</td>\n      <td>4/18/1975</td>\n    </tr>\n    <tr>\n      <th>98336</th>\n      <td>0.700</td>\n      <td>0.592</td>\n      <td>0.906</td>\n      <td>109.847</td>\n      <td>-10.434</td>\n      <td>1</td>\n      <td>11</td>\n      <td>0.10800</td>\n      <td>0.018400</td>\n      <td>0.1180</td>\n      <td>0.0681</td>\n      <td>0</td>\n      <td>263627</td>\n      <td>32</td>\n      <td>1976</td>\n      <td>11/29/1976</td>\n    </tr>\n    <tr>\n      <th>98337</th>\n      <td>0.709</td>\n      <td>0.709</td>\n      <td>0.863</td>\n      <td>111.544</td>\n      <td>-12.023</td>\n      <td>1</td>\n      <td>2</td>\n      <td>0.11800</td>\n      <td>0.000011</td>\n      <td>0.1250</td>\n      <td>0.0370</td>\n      <td>0</td>\n      <td>158400</td>\n      <td>31</td>\n      <td>1987</td>\n      <td>1987</td>\n    </tr>\n    <tr>\n      <th>98338</th>\n      <td>0.552</td>\n      <td>0.651</td>\n      <td>0.533</td>\n      <td>161.548</td>\n      <td>-10.624</td>\n      <td>0</td>\n      <td>4</td>\n      <td>0.00494</td>\n      <td>0.034900</td>\n      <td>0.1320</td>\n      <td>0.2290</td>\n      <td>0</td>\n      <td>232533</td>\n      <td>43</td>\n      <td>1992</td>\n      <td>4/13/1992</td>\n    </tr>\n    <tr>\n      <th>98339</th>\n      <td>0.546</td>\n      <td>0.864</td>\n      <td>0.863</td>\n      <td>145.652</td>\n      <td>-7.632</td>\n      <td>1</td>\n      <td>7</td>\n      <td>0.09080</td>\n      <td>0.008140</td>\n      <td>0.2770</td>\n      <td>0.0393</td>\n      <td>0</td>\n      <td>137240</td>\n      <td>43</td>\n      <td>2005</td>\n      <td>7/19/2005</td>\n    </tr>\n  </tbody>\n</table>\n<p>98340 rows × 16 columns</p>\n</div>"
     },
     "metadata": {},
     "execution_count": 9
    }
   ],
   "source": [
    "train.iloc[:,2:-1]"
   ]
  },
  {
   "cell_type": "code",
   "execution_count": 10,
   "metadata": {},
   "outputs": [],
   "source": [
    "data=np.array(train.iloc[0:10000,2:-1])"
   ]
  },
  {
   "cell_type": "code",
   "execution_count": 11,
   "metadata": {},
   "outputs": [
    {
     "output_type": "execute_result",
     "data": {
      "text/plain": [
       "array([[0.6, 0.365, 0.131, ..., 54, 2005, '2005'],\n",
       "       [0.8740000000000001, 0.326, 0.179, ..., 53, 2005, '2005'],\n",
       "       [0.67, 0.531, 0.336, ..., 55, 2009, '8/7/2009'],\n",
       "       ...,\n",
       "       [0.547, 0.46, 0.5429999999999999, ..., 60, 1969, '12/5/1969'],\n",
       "       [0.46799999999999997, 0.8690000000000001, 0.6920000000000001, ...,\n",
       "        38, 1957, '1/1/1957'],\n",
       "       [0.563, 0.5579999999999999, 0.5579999999999999, ..., 37, 1957,\n",
       "        '1/1/1957']], dtype=object)"
      ]
     },
     "metadata": {},
     "execution_count": 11
    }
   ],
   "source": [
    "data"
   ]
  },
  {
   "cell_type": "code",
   "execution_count": 12,
   "metadata": {},
   "outputs": [
    {
     "output_type": "execute_result",
     "data": {
      "text/plain": [
       "(10000, 16)"
      ]
     },
     "metadata": {},
     "execution_count": 12
    }
   ],
   "source": [
    "data.shape"
   ]
  },
  {
   "cell_type": "code",
   "execution_count": 13,
   "metadata": {},
   "outputs": [],
   "source": [
    "def zca_whitening(inputs):  \n",
    "    sigma = np.dot(inputs, inputs.T)/inputs.shape[1] #inputs是经过归一化处理的，所以这边就相当于计算协方差矩阵  \n",
    "    U,S,V = np.linalg.svd(sigma) #奇异分解  \n",
    "    epsilon = 0.1                #白化的时候，防止除数为0  \n",
    "    ZCAMatrix = np.dot(np.dot(U, np.diag(1.0/np.sqrt(np.diag(S) + epsilon))), U.T)                     #计算zca白化矩阵  \n",
    "    return np.dot(ZCAMatrix, inputs)   #白化变换  "
   ]
  },
  {
   "cell_type": "code",
   "execution_count": 14,
   "metadata": {},
   "outputs": [
    {
     "output_type": "error",
     "ename": "TypeError",
     "evalue": "can't multiply sequence by non-int of type 'str'",
     "traceback": [
      "\u001b[1;31m---------------------------------------------------------------------------\u001b[0m",
      "\u001b[1;31mTypeError\u001b[0m                                 Traceback (most recent call last)",
      "\u001b[1;32m<ipython-input-14-1fdb42ef7814>\u001b[0m in \u001b[0;36m<module>\u001b[1;34m\u001b[0m\n\u001b[1;32m----> 1\u001b[1;33m \u001b[0mx\u001b[0m\u001b[1;33m=\u001b[0m\u001b[0mzca_whitening\u001b[0m\u001b[1;33m(\u001b[0m\u001b[0mdata\u001b[0m\u001b[1;33m)\u001b[0m\u001b[1;33m\u001b[0m\u001b[1;33m\u001b[0m\u001b[0m\n\u001b[0m",
      "\u001b[1;32m<ipython-input-13-fea4fdb808df>\u001b[0m in \u001b[0;36mzca_whitening\u001b[1;34m(inputs)\u001b[0m\n\u001b[0;32m      1\u001b[0m \u001b[1;32mdef\u001b[0m \u001b[0mzca_whitening\u001b[0m\u001b[1;33m(\u001b[0m\u001b[0minputs\u001b[0m\u001b[1;33m)\u001b[0m\u001b[1;33m:\u001b[0m\u001b[1;33m\u001b[0m\u001b[1;33m\u001b[0m\u001b[0m\n\u001b[1;32m----> 2\u001b[1;33m     \u001b[0msigma\u001b[0m \u001b[1;33m=\u001b[0m \u001b[0mnp\u001b[0m\u001b[1;33m.\u001b[0m\u001b[0mdot\u001b[0m\u001b[1;33m(\u001b[0m\u001b[0minputs\u001b[0m\u001b[1;33m,\u001b[0m \u001b[0minputs\u001b[0m\u001b[1;33m.\u001b[0m\u001b[0mT\u001b[0m\u001b[1;33m)\u001b[0m\u001b[1;33m/\u001b[0m\u001b[0minputs\u001b[0m\u001b[1;33m.\u001b[0m\u001b[0mshape\u001b[0m\u001b[1;33m[\u001b[0m\u001b[1;36m1\u001b[0m\u001b[1;33m]\u001b[0m \u001b[1;31m#inputs是经过归一化处理的，所以这边就相当于计算协方差矩阵\u001b[0m\u001b[1;33m\u001b[0m\u001b[1;33m\u001b[0m\u001b[0m\n\u001b[0m\u001b[0;32m      3\u001b[0m     \u001b[0mU\u001b[0m\u001b[1;33m,\u001b[0m\u001b[0mS\u001b[0m\u001b[1;33m,\u001b[0m\u001b[0mV\u001b[0m \u001b[1;33m=\u001b[0m \u001b[0mnp\u001b[0m\u001b[1;33m.\u001b[0m\u001b[0mlinalg\u001b[0m\u001b[1;33m.\u001b[0m\u001b[0msvd\u001b[0m\u001b[1;33m(\u001b[0m\u001b[0msigma\u001b[0m\u001b[1;33m)\u001b[0m \u001b[1;31m#奇异分解\u001b[0m\u001b[1;33m\u001b[0m\u001b[1;33m\u001b[0m\u001b[0m\n\u001b[0;32m      4\u001b[0m     \u001b[0mepsilon\u001b[0m \u001b[1;33m=\u001b[0m \u001b[1;36m0.1\u001b[0m                \u001b[1;31m#白化的时候，防止除数为0\u001b[0m\u001b[1;33m\u001b[0m\u001b[1;33m\u001b[0m\u001b[0m\n\u001b[0;32m      5\u001b[0m     \u001b[0mZCAMatrix\u001b[0m \u001b[1;33m=\u001b[0m \u001b[0mnp\u001b[0m\u001b[1;33m.\u001b[0m\u001b[0mdot\u001b[0m\u001b[1;33m(\u001b[0m\u001b[0mnp\u001b[0m\u001b[1;33m.\u001b[0m\u001b[0mdot\u001b[0m\u001b[1;33m(\u001b[0m\u001b[0mU\u001b[0m\u001b[1;33m,\u001b[0m \u001b[0mnp\u001b[0m\u001b[1;33m.\u001b[0m\u001b[0mdiag\u001b[0m\u001b[1;33m(\u001b[0m\u001b[1;36m1.0\u001b[0m\u001b[1;33m/\u001b[0m\u001b[0mnp\u001b[0m\u001b[1;33m.\u001b[0m\u001b[0msqrt\u001b[0m\u001b[1;33m(\u001b[0m\u001b[0mnp\u001b[0m\u001b[1;33m.\u001b[0m\u001b[0mdiag\u001b[0m\u001b[1;33m(\u001b[0m\u001b[0mS\u001b[0m\u001b[1;33m)\u001b[0m \u001b[1;33m+\u001b[0m \u001b[0mepsilon\u001b[0m\u001b[1;33m)\u001b[0m\u001b[1;33m)\u001b[0m\u001b[1;33m)\u001b[0m\u001b[1;33m,\u001b[0m \u001b[0mU\u001b[0m\u001b[1;33m.\u001b[0m\u001b[0mT\u001b[0m\u001b[1;33m)\u001b[0m                     \u001b[1;31m#计算zca白化矩阵\u001b[0m\u001b[1;33m\u001b[0m\u001b[1;33m\u001b[0m\u001b[0m\n",
      "\u001b[1;32m<__array_function__ internals>\u001b[0m in \u001b[0;36mdot\u001b[1;34m(*args, **kwargs)\u001b[0m\n",
      "\u001b[1;31mTypeError\u001b[0m: can't multiply sequence by non-int of type 'str'"
     ]
    }
   ],
   "source": [
    "x=zca_whitening(data)"
   ]
  },
  {
   "cell_type": "code",
   "execution_count": null,
   "metadata": {},
   "outputs": [],
   "source": [
    "print(x)"
   ]
  },
  {
   "cell_type": "code",
   "execution_count": null,
   "metadata": {},
   "outputs": [],
   "source": []
  },
  {
   "cell_type": "code",
   "execution_count": null,
   "metadata": {},
   "outputs": [],
   "source": []
  }
 ]
}